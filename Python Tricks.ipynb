{
 "cells": [
  {
   "cell_type": "markdown",
   "id": "c8b264ff",
   "metadata": {},
   "source": [
    "# Python Tricks"
   ]
  },
  {
   "cell_type": "markdown",
   "id": "8712c40e",
   "metadata": {},
   "source": [
    "<img src=\"https://www.hitechnectar.com/wp-content/uploads/2019/07/PyPy-vs-Cython-Difference-Between-The-Two-Explained.png\">"
   ]
  },
  {
   "cell_type": "markdown",
   "id": "eeed1617",
   "metadata": {},
   "source": [
    " "
   ]
  },
  {
   "cell_type": "markdown",
   "id": "9cb2f7ac",
   "metadata": {},
   "source": [
    "# 1. Slices"
   ]
  },
  {
   "cell_type": "code",
   "execution_count": 1,
   "id": "76cb98ad",
   "metadata": {},
   "outputs": [
    {
     "name": "stdout",
     "output_type": "stream",
     "text": [
      "['b', 5, 11]\n",
      "aSc\n",
      "(4, 5, 6)\n"
     ]
    }
   ],
   "source": [
    "s = slice(3,6)\n",
    "list_ = [1, 3, 'a', 'b', 5, 11, 16]\n",
    "text = 'DataScience'\n",
    "tuple_ = (1,2,3,4,5,6,7)\n",
    "print(list_[s])\n",
    "print(text[s])\n",
    "print(tuple_[s])\n"
   ]
  },
  {
   "cell_type": "markdown",
   "id": "b7772e89",
   "metadata": {},
   "source": [
    "## 2.Sorting a list of lists"
   ]
  },
  {
   "cell_type": "code",
   "execution_count": 2,
   "id": "f486a71f",
   "metadata": {},
   "outputs": [],
   "source": [
    "lst = [[2, 7], [7, 3], [3, 8], [8, 7], [9, 7], [4, 9]]"
   ]
  },
  {
   "cell_type": "code",
   "execution_count": 3,
   "id": "556aba96",
   "metadata": {},
   "outputs": [
    {
     "name": "stdout",
     "output_type": "stream",
     "text": [
      "[[7, 3], [2, 7], [8, 7], [9, 7], [3, 8], [4, 9]]\n"
     ]
    }
   ],
   "source": [
    "lst.sort(key = lambda inner:inner[1])\n",
    "print(lst)"
   ]
  },
  {
   "cell_type": "code",
   "execution_count": 4,
   "id": "43b0068a",
   "metadata": {},
   "outputs": [
    {
     "name": "stdout",
     "output_type": "stream",
     "text": [
      "[[2, 7], [3, 8], [4, 9], [7, 3], [8, 7], [9, 7]]\n"
     ]
    }
   ],
   "source": [
    "lst.sort(key = lambda inner:inner[0])\n",
    "print(lst)"
   ]
  },
  {
   "cell_type": "markdown",
   "id": "f798e88f",
   "metadata": {},
   "source": [
    " "
   ]
  },
  {
   "cell_type": "markdown",
   "id": "2aac1fce",
   "metadata": {},
   "source": [
    "## 3.Merging two Dictionaries"
   ]
  },
  {
   "cell_type": "code",
   "execution_count": 5,
   "id": "9e0f1941",
   "metadata": {},
   "outputs": [
    {
     "name": "stdout",
     "output_type": "stream",
     "text": [
      "{'a': 10, 'b': 8, 'd': 6, 'c': 4}\n"
     ]
    }
   ],
   "source": [
    "# Python code to merge dict using a single\n",
    "# expression\n",
    "def Merge(dict1, dict2):\n",
    "    res = {**dict1, **dict2}\n",
    "    return res\n",
    "     \n",
    "# Driver code\n",
    "dict1 = {'a': 10, 'b': 8}\n",
    "dict2 = {'d': 6, 'c': 4}\n",
    "dict3 = Merge(dict1, dict2)\n",
    "print(dict3)"
   ]
  },
  {
   "cell_type": "markdown",
   "id": "5ff86869",
   "metadata": {},
   "source": [
    "## 4.Underline utilization in integer"
   ]
  },
  {
   "cell_type": "code",
   "execution_count": 6,
   "id": "7c0c454c",
   "metadata": {},
   "outputs": [
    {
     "name": "stdout",
     "output_type": "stream",
     "text": [
      " 12,103,420,005\n"
     ]
    }
   ],
   "source": [
    "num1 = 100_000_000\n",
    "num2 = 12_003_420_005\n",
    "total = num1 + num2\n",
    "print(f'{total: ,}')"
   ]
  },
  {
   "cell_type": "markdown",
   "id": "c51cc80c",
   "metadata": {},
   "source": [
    "## 5.Library for opening each websites"
   ]
  },
  {
   "cell_type": "code",
   "execution_count": 7,
   "id": "6cedfad0",
   "metadata": {},
   "outputs": [],
   "source": [
    "import webbrowser"
   ]
  },
  {
   "cell_type": "code",
   "execution_count": 8,
   "id": "eb6c565a",
   "metadata": {},
   "outputs": [
    {
     "data": {
      "text/plain": [
       "True"
      ]
     },
     "execution_count": 8,
     "metadata": {},
     "output_type": "execute_result"
    }
   ],
   "source": [
    "webbrowser.open('https://www.hejazizo.com/')"
   ]
  },
  {
   "cell_type": "markdown",
   "id": "10898252",
   "metadata": {},
   "source": [
    "## 6."
   ]
  },
  {
   "cell_type": "code",
   "execution_count": 9,
   "id": "34e22436",
   "metadata": {},
   "outputs": [],
   "source": [
    "from copy import deepcopy"
   ]
  },
  {
   "cell_type": "code",
   "execution_count": 10,
   "id": "ea69ca01",
   "metadata": {},
   "outputs": [],
   "source": [
    "list_1 = ['C++','Python','Rust',['HTML','CSSS']]\n",
    "list_2 = list_1.copy()\n",
    "list_3 = deepcopy(list_1)"
   ]
  },
  {
   "cell_type": "code",
   "execution_count": 11,
   "id": "a00fdce5",
   "metadata": {},
   "outputs": [],
   "source": [
    "list_2[-1][-1] = 'CSS'"
   ]
  },
  {
   "cell_type": "code",
   "execution_count": 12,
   "id": "93da3a93",
   "metadata": {},
   "outputs": [
    {
     "data": {
      "text/plain": [
       "['C++', 'Python', 'Rust', ['HTML', 'CSS']]"
      ]
     },
     "execution_count": 12,
     "metadata": {},
     "output_type": "execute_result"
    }
   ],
   "source": [
    "list_1"
   ]
  },
  {
   "cell_type": "code",
   "execution_count": 13,
   "id": "f0932b36",
   "metadata": {},
   "outputs": [
    {
     "data": {
      "text/plain": [
       "['C++', 'Python', 'Rust', ['HTML', 'CSSS']]"
      ]
     },
     "execution_count": 13,
     "metadata": {},
     "output_type": "execute_result"
    }
   ],
   "source": [
    "list_3"
   ]
  },
  {
   "cell_type": "markdown",
   "id": "eb2be00d",
   "metadata": {},
   "source": [
    "## 7."
   ]
  },
  {
   "cell_type": "code",
   "execution_count": 14,
   "id": "ff64dc4c",
   "metadata": {},
   "outputs": [],
   "source": [
    "data = None"
   ]
  },
  {
   "cell_type": "code",
   "execution_count": 15,
   "id": "5f3fae45",
   "metadata": {},
   "outputs": [
    {
     "name": "stdout",
     "output_type": "stream",
     "text": [
      "True\n"
     ]
    }
   ],
   "source": [
    "print(not data)"
   ]
  },
  {
   "cell_type": "markdown",
   "id": "f0543488",
   "metadata": {},
   "source": [
    "## 8. Print Monthly Calendar"
   ]
  },
  {
   "cell_type": "code",
   "execution_count": 5,
   "id": "9ba18d53",
   "metadata": {},
   "outputs": [],
   "source": [
    "import calendar"
   ]
  },
  {
   "cell_type": "code",
   "execution_count": 6,
   "id": "99731d65",
   "metadata": {},
   "outputs": [
    {
     "name": "stdout",
     "output_type": "stream",
     "text": [
      "['Calendar', 'EPOCH', 'FRIDAY', 'February', 'HTMLCalendar', 'IllegalMonthError', 'IllegalWeekdayError', 'January', 'LocaleHTMLCalendar', 'LocaleTextCalendar', 'MONDAY', 'SATURDAY', 'SUNDAY', 'THURSDAY', 'TUESDAY', 'TextCalendar', 'WEDNESDAY', '_EPOCH_ORD', '__all__', '__builtins__', '__cached__', '__doc__', '__file__', '__loader__', '__name__', '__package__', '__spec__', '_colwidth', '_locale', '_localized_day', '_localized_month', '_monthlen', '_nextmonth', '_prevmonth', '_spacing', 'c', 'calendar', 'datetime', 'day_abbr', 'day_name', 'different_locale', 'error', 'firstweekday', 'format', 'formatstring', 'isleap', 'leapdays', 'main', 'mdays', 'month', 'month_abbr', 'month_name', 'monthcalendar', 'monthrange', 'prcal', 'prmonth', 'prweek', 'repeat', 'setfirstweekday', 'sys', 'timegm', 'week', 'weekday', 'weekheader']\n"
     ]
    }
   ],
   "source": [
    "print(dir(calendar))"
   ]
  },
  {
   "cell_type": "code",
   "execution_count": 7,
   "id": "2e4d867b",
   "metadata": {},
   "outputs": [
    {
     "name": "stdout",
     "output_type": "stream",
     "text": [
      "    January 2022\n",
      "Mo Tu We Th Fr Sa Su\n",
      "                1  2\n",
      " 3  4  5  6  7  8  9\n",
      "10 11 12 13 14 15 16\n",
      "17 18 19 20 21 22 23\n",
      "24 25 26 27 28 29 30\n",
      "31\n",
      "\n"
     ]
    }
   ],
   "source": [
    "print(calendar.month(2022,1))"
   ]
  },
  {
   "cell_type": "code",
   "execution_count": 10,
   "id": "a0bc1a6e",
   "metadata": {},
   "outputs": [
    {
     "name": "stdout",
     "output_type": "stream",
     "text": [
      "                                  2022\n",
      "\n",
      "      January                   February                   March\n",
      "Mo Tu We Th Fr Sa Su      Mo Tu We Th Fr Sa Su      Mo Tu We Th Fr Sa Su\n",
      "                1  2          1  2  3  4  5  6          1  2  3  4  5  6\n",
      " 3  4  5  6  7  8  9       7  8  9 10 11 12 13       7  8  9 10 11 12 13\n",
      "10 11 12 13 14 15 16      14 15 16 17 18 19 20      14 15 16 17 18 19 20\n",
      "17 18 19 20 21 22 23      21 22 23 24 25 26 27      21 22 23 24 25 26 27\n",
      "24 25 26 27 28 29 30      28                        28 29 30 31\n",
      "31\n",
      "\n",
      "       April                      May                       June\n",
      "Mo Tu We Th Fr Sa Su      Mo Tu We Th Fr Sa Su      Mo Tu We Th Fr Sa Su\n",
      "             1  2  3                         1             1  2  3  4  5\n",
      " 4  5  6  7  8  9 10       2  3  4  5  6  7  8       6  7  8  9 10 11 12\n",
      "11 12 13 14 15 16 17       9 10 11 12 13 14 15      13 14 15 16 17 18 19\n",
      "18 19 20 21 22 23 24      16 17 18 19 20 21 22      20 21 22 23 24 25 26\n",
      "25 26 27 28 29 30         23 24 25 26 27 28 29      27 28 29 30\n",
      "                          30 31\n",
      "\n",
      "        July                     August                  September\n",
      "Mo Tu We Th Fr Sa Su      Mo Tu We Th Fr Sa Su      Mo Tu We Th Fr Sa Su\n",
      "             1  2  3       1  2  3  4  5  6  7                1  2  3  4\n",
      " 4  5  6  7  8  9 10       8  9 10 11 12 13 14       5  6  7  8  9 10 11\n",
      "11 12 13 14 15 16 17      15 16 17 18 19 20 21      12 13 14 15 16 17 18\n",
      "18 19 20 21 22 23 24      22 23 24 25 26 27 28      19 20 21 22 23 24 25\n",
      "25 26 27 28 29 30 31      29 30 31                  26 27 28 29 30\n",
      "\n",
      "      October                   November                  December\n",
      "Mo Tu We Th Fr Sa Su      Mo Tu We Th Fr Sa Su      Mo Tu We Th Fr Sa Su\n",
      "                1  2          1  2  3  4  5  6                1  2  3  4\n",
      " 3  4  5  6  7  8  9       7  8  9 10 11 12 13       5  6  7  8  9 10 11\n",
      "10 11 12 13 14 15 16      14 15 16 17 18 19 20      12 13 14 15 16 17 18\n",
      "17 18 19 20 21 22 23      21 22 23 24 25 26 27      19 20 21 22 23 24 25\n",
      "24 25 26 27 28 29 30      28 29 30                  26 27 28 29 30 31\n",
      "31\n",
      "\n"
     ]
    }
   ],
   "source": [
    "print(calendar.calendar(2022))"
   ]
  },
  {
   "cell_type": "markdown",
   "id": "f422c471",
   "metadata": {},
   "source": [
    "## 9."
   ]
  },
  {
   "cell_type": "code",
   "execution_count": 18,
   "id": "84875e82",
   "metadata": {},
   "outputs": [],
   "source": [
    "import turtle"
   ]
  },
  {
   "cell_type": "code",
   "execution_count": 19,
   "id": "327b7dfb",
   "metadata": {},
   "outputs": [],
   "source": [
    "t = turtle.Turtle()\n",
    "s = turtle.Screen()\n",
    "s.bgcolor('#262626')\n",
    "t.pencolor('#7C909C')\n",
    "t.speed(100)\n",
    "col = ('#ED7864','#6E544F','#592F2F','#6E382E')\n",
    "for n in range(5):\n",
    "    for x in range(8):\n",
    "        t.speed(x+10)\n",
    "        for i in range(2):\n",
    "            t.pensize(2)\n",
    "            t.circle(80+n*20,90)\n",
    "            t.lt(90)\n",
    "        t.lt(45)\n",
    "    t.pencolor(col[n%4])\n",
    "s.exitonclick()"
   ]
  },
  {
   "cell_type": "markdown",
   "id": "9a2e8fb1",
   "metadata": {},
   "source": [
    "## 10.Ellipsis"
   ]
  },
  {
   "cell_type": "code",
   "execution_count": null,
   "id": "e7db937d",
   "metadata": {},
   "outputs": [],
   "source": [
    "def func():\n",
    "    pass"
   ]
  },
  {
   "cell_type": "code",
   "execution_count": 14,
   "id": "3f458732",
   "metadata": {},
   "outputs": [],
   "source": [
    "def func():\n",
    "    ..."
   ]
  },
  {
   "cell_type": "code",
   "execution_count": 15,
   "id": "6046bf3c",
   "metadata": {},
   "outputs": [
    {
     "data": {
      "text/plain": [
       "Ellipsis"
      ]
     },
     "execution_count": 15,
     "metadata": {},
     "output_type": "execute_result"
    }
   ],
   "source": [
    "..."
   ]
  },
  {
   "cell_type": "markdown",
   "id": "37095841",
   "metadata": {},
   "source": [
    " "
   ]
  },
  {
   "cell_type": "code",
   "execution_count": 16,
   "id": "9b952ecf",
   "metadata": {},
   "outputs": [
    {
     "name": "stdout",
     "output_type": "stream",
     "text": [
      "True\n",
      "Q\n",
      "Card(rank='Q', suit='hearts')\n"
     ]
    },
    {
     "data": {
      "text/plain": [
       "Card(rank='Q', suit='hearts')"
      ]
     },
     "execution_count": 16,
     "metadata": {},
     "output_type": "execute_result"
    }
   ],
   "source": [
    "from dataclasses import dataclass\n",
    "\n",
    "@dataclass\n",
    "class Card:\n",
    "    rank: str\n",
    "    suit: str\n",
    "    \n",
    "card = Card(\"Q\", \"hearts\")\n",
    "\n",
    "print(card == card)\n",
    "# True\n",
    "\n",
    "print(card.rank)\n",
    "# 'Q'\n",
    "\n",
    "print(card)\n",
    "Card(rank='Q', suit='hearts')"
   ]
  },
  {
   "cell_type": "markdown",
   "id": "1d27e1ae",
   "metadata": {},
   "source": [
    "## 12.In place variable swapping"
   ]
  },
  {
   "cell_type": "code",
   "execution_count": 17,
   "id": "8b95b18c",
   "metadata": {},
   "outputs": [
    {
     "name": "stdout",
     "output_type": "stream",
     "text": [
      "2\n",
      "1\n"
     ]
    }
   ],
   "source": [
    "a = 1\n",
    "b = 2\n",
    "a, b = b, a\n",
    "print (a)\n",
    "# 2\n",
    "print (b)\n",
    "# 1"
   ]
  },
  {
   "cell_type": "markdown",
   "id": "61b91649",
   "metadata": {},
   "source": [
    "## 13 Pretty Print: (Pprint)"
   ]
  },
  {
   "cell_type": "code",
   "execution_count": 2,
   "id": "eceb3e29",
   "metadata": {},
   "outputs": [
    {
     "name": "stdout",
     "output_type": "stream",
     "text": [
      "{  'boundingbox': [  '42.983431438214',\n",
      "                     '42.983531438214',\n",
      "                     '-78.706880444495',\n",
      "                     '-78.706780444495'],\n",
      "   'class': 'place',\n",
      "   'display_name': '230, Fifth Avenue,\\n'\n",
      "                   '        Sheridan Meadows, Amherst Town, Erie County, New '\n",
      "                   'York, 14221, United States of America',\n",
      "   'importance': 0.511,\n",
      "   'lat': '42.983481438214326',\n",
      "   'licence': 'Data © OpenStreetMap contributors, ODbL 1.0. '\n",
      "              'https://osm.org/copyright',\n",
      "   'lon': '-78.70683044449504',\n",
      "   'osm_id': 12316939,\n",
      "   'osm_type': 'way',\n",
      "   'place_id': 259174015,\n",
      "   'type': 'house'}\n"
     ]
    }
   ],
   "source": [
    "import pprint\n",
    "\n",
    "data = {'place_id': 259174015, 'licence': 'Data © OpenStreetMap contributors, ODbL 1.0. https://osm.org/copyright', \n",
    "        'osm_type': 'way', 'osm_id': 12316939, 'boundingbox': ['42.983431438214', '42.983531438214', '-78.706880444495', \n",
    "        '-78.706780444495'], 'lat': '42.983481438214326', 'lon': '-78.70683044449504', 'display_name': '''230, Fifth Avenue,\n",
    "        Sheridan Meadows, Amherst Town, Erie County, New York, 14221, United States of America''', \n",
    "        'class': 'place', 'type': 'house', 'importance': 0.511}\n",
    "\n",
    "pprint.pprint(data, indent=3)"
   ]
  },
  {
   "cell_type": "markdown",
   "id": "37fb5753",
   "metadata": {},
   "source": [
    "## 14.Python Working Directory: (os.getcwd())"
   ]
  },
  {
   "cell_type": "code",
   "execution_count": 3,
   "id": "29c7d2f8",
   "metadata": {},
   "outputs": [],
   "source": [
    "import os\n",
    "dirpath = os.getcwd()"
   ]
  },
  {
   "cell_type": "code",
   "execution_count": 4,
   "id": "d0a2a2c9",
   "metadata": {},
   "outputs": [
    {
     "data": {
      "text/plain": [
       "'C:\\\\Users\\\\user\\\\OneDrive\\\\Desktop'"
      ]
     },
     "execution_count": 4,
     "metadata": {},
     "output_type": "execute_result"
    }
   ],
   "source": [
    "dirpath"
   ]
  },
  {
   "cell_type": "markdown",
   "id": "d5b3d548",
   "metadata": {},
   "source": [
    "## 15. Condition Inside the print Function\n",
    "\n",
    "Have you ever thought you could write the entire condition inside the print function and print the output based on the conditions? Here is how you can achieve this:"
   ]
  },
  {
   "cell_type": "code",
   "execution_count": 5,
   "id": "1e080c0d",
   "metadata": {},
   "outputs": [
    {
     "name": "stdout",
     "output_type": "stream",
     "text": [
      "Enter a num: 2\n",
      "even\n"
     ]
    }
   ],
   "source": [
    "print(\"odd\" if int(input(\"Enter a num: \"))%2 else \"even\")"
   ]
  },
  {
   "cell_type": "markdown",
   "id": "181e159a",
   "metadata": {},
   "source": [
    "## 16.Conditional List — All"
   ]
  },
  {
   "cell_type": "markdown",
   "id": "627f5c14",
   "metadata": {},
   "source": [
    "When you have to add conditions dynamically, this trick works like a charm. This trick can even become a stress remover when the number of conditions increases and you have to write them manually.\n",
    "The all method can be used to match all the conditions or work in place of the and condition."
   ]
  },
  {
   "cell_type": "code",
   "execution_count": 6,
   "id": "287bf20f",
   "metadata": {},
   "outputs": [
    {
     "name": "stdout",
     "output_type": "stream",
     "text": [
      "Pranjal Saxena\n"
     ]
    }
   ],
   "source": [
    "score=325\n",
    "wickets=7\n",
    "catch=4\n",
    "list_cond=[score>320,\n",
    "           wickets<8,\n",
    "           catch>3]\n",
    "if(all(list_cond)):\n",
    "    print(\"Pranjal Saxena\")\n",
    "else:\n",
    "    print(\"Lose\")"
   ]
  },
  {
   "cell_type": "markdown",
   "id": "895ada90",
   "metadata": {},
   "source": [
    "## 17. Conditional List — Any"
   ]
  },
  {
   "cell_type": "markdown",
   "id": "805e9bce",
   "metadata": {},
   "source": [
    "We can use the same conditional list with the any method in Python to check whether anyone’s condition satisfies it."
   ]
  },
  {
   "cell_type": "code",
   "execution_count": 7,
   "id": "44665c4e",
   "metadata": {},
   "outputs": [
    {
     "name": "stdout",
     "output_type": "stream",
     "text": [
      "Win\n"
     ]
    }
   ],
   "source": [
    "score=200\n",
    "wickets=7\n",
    "catch=4\n",
    "list_cond=[score>320,\n",
    "           wickets<8,\n",
    "           catch>3]\n",
    "if(any(list_cond)):\n",
    "    print(\"Win\")\n",
    "else:\n",
    "    print(\"Lose\")"
   ]
  },
  {
   "cell_type": "markdown",
   "id": "991c8e55",
   "metadata": {},
   "source": [
    "## 18.Most Repeated Object\n",
    "If you want to check what object in your list repeats the most, we can use the following line of code. This approach uses the max function with the key attribute to find the most repeated element:"
   ]
  },
  {
   "cell_type": "code",
   "execution_count": 9,
   "id": "64b4a466",
   "metadata": {},
   "outputs": [
    {
     "name": "stdout",
     "output_type": "stream",
     "text": [
      "a\n"
     ]
    }
   ],
   "source": [
    "li=[1,5,8,6,5,9,6,9,5,6,9,6,5,4,\"a\",\"a\",\"b\",\"b\",\"a\",\"a\",\"a\"]\n",
    "print(max(set(li), key=li.count))"
   ]
  },
  {
   "cell_type": "markdown",
   "id": "bb0f9f12",
   "metadata": {},
   "source": [
    "## 19.Partial assignments: (List Unpacking)\n",
    "Do you want to assign one or more elements of a list specifically and assign all the remains to something else? Easy with Python.\n",
    "\n",
    "Check out this syntax that makes use of * unpacking notation in Python:"
   ]
  },
  {
   "cell_type": "code",
   "execution_count": 11,
   "id": "38d23c22",
   "metadata": {},
   "outputs": [
    {
     "name": "stdout",
     "output_type": "stream",
     "text": [
      "10\n",
      "[20, 30, 40]\n"
     ]
    }
   ],
   "source": [
    "lst = [10, 20, 30, 40]\n",
    "a, *b = lst\n",
    "print(a)\n",
    "print(b)"
   ]
  },
  {
   "cell_type": "markdown",
   "id": "90f420bf",
   "metadata": {},
   "source": [
    "## 20.Ordered Dictionaries: (from collections)\n",
    "Python’s default dictionary data structure doesn’t have any index order. You can think of key-value pairs as mixed items in a bag. This makes dictionaries very efficient to work with. However, sometimes you just need your dictionary to be ordered.\n",
    "\n",
    "No worries, Python’s collections library has a module named OrderedDict that does just that."
   ]
  },
  {
   "cell_type": "code",
   "execution_count": 12,
   "id": "65ac0754",
   "metadata": {},
   "outputs": [
    {
     "name": "stdout",
     "output_type": "stream",
     "text": [
      "OrderedDict([(1, 100), (2, 200)])\n"
     ]
    }
   ],
   "source": [
    "import collections\n",
    "\n",
    "d = collections.OrderedDict()\n",
    "d[1] = 100\n",
    "d[2] = 200\n",
    "\n",
    "print(d)"
   ]
  },
  {
   "cell_type": "markdown",
   "id": "38883cba",
   "metadata": {},
   "source": [
    "## 21.Permutations: (from itertools)"
   ]
  },
  {
   "cell_type": "markdown",
   "id": "d3d2f07f",
   "metadata": {},
   "source": [
    "Whether it’s betting with your friends, calculating a sophisticated mathematical equation, reading Adam Fawer’s Improbable or evaluating your chances before a Vegas trip; you never know when you might need a couple of permutation calculations.\n",
    "\n",
    "Thanks to Python you don’t have to go through the tedious arithmetics of permutations and you can get it done with a simple piece of code.\n",
    "\n",
    "Check out this making use of permutations method from itertools library:\n",
    "\n",
    "First print shows to total amount of different probabilities, second print demonstrates all the possible events."
   ]
  },
  {
   "cell_type": "code",
   "execution_count": 13,
   "id": "70fd865c",
   "metadata": {},
   "outputs": [
    {
     "name": "stdout",
     "output_type": "stream",
     "text": [
      "120\n",
      "(1, 2, 3, 4, 5)\n",
      "(1, 2, 3, 5, 4)\n",
      "(1, 2, 4, 3, 5)\n",
      "(1, 2, 4, 5, 3)\n",
      "(1, 2, 5, 3, 4)\n",
      "(1, 2, 5, 4, 3)\n",
      "(1, 3, 2, 4, 5)\n",
      "(1, 3, 2, 5, 4)\n",
      "(1, 3, 4, 2, 5)\n",
      "(1, 3, 4, 5, 2)\n",
      "(1, 3, 5, 2, 4)\n",
      "(1, 3, 5, 4, 2)\n",
      "(1, 4, 2, 3, 5)\n",
      "(1, 4, 2, 5, 3)\n",
      "(1, 4, 3, 2, 5)\n",
      "(1, 4, 3, 5, 2)\n",
      "(1, 4, 5, 2, 3)\n",
      "(1, 4, 5, 3, 2)\n",
      "(1, 5, 2, 3, 4)\n",
      "(1, 5, 2, 4, 3)\n",
      "(1, 5, 3, 2, 4)\n",
      "(1, 5, 3, 4, 2)\n",
      "(1, 5, 4, 2, 3)\n",
      "(1, 5, 4, 3, 2)\n",
      "(2, 1, 3, 4, 5)\n",
      "(2, 1, 3, 5, 4)\n",
      "(2, 1, 4, 3, 5)\n",
      "(2, 1, 4, 5, 3)\n",
      "(2, 1, 5, 3, 4)\n",
      "(2, 1, 5, 4, 3)\n",
      "(2, 3, 1, 4, 5)\n",
      "(2, 3, 1, 5, 4)\n",
      "(2, 3, 4, 1, 5)\n",
      "(2, 3, 4, 5, 1)\n",
      "(2, 3, 5, 1, 4)\n",
      "(2, 3, 5, 4, 1)\n",
      "(2, 4, 1, 3, 5)\n",
      "(2, 4, 1, 5, 3)\n",
      "(2, 4, 3, 1, 5)\n",
      "(2, 4, 3, 5, 1)\n",
      "(2, 4, 5, 1, 3)\n",
      "(2, 4, 5, 3, 1)\n",
      "(2, 5, 1, 3, 4)\n",
      "(2, 5, 1, 4, 3)\n",
      "(2, 5, 3, 1, 4)\n",
      "(2, 5, 3, 4, 1)\n",
      "(2, 5, 4, 1, 3)\n",
      "(2, 5, 4, 3, 1)\n",
      "(3, 1, 2, 4, 5)\n",
      "(3, 1, 2, 5, 4)\n",
      "(3, 1, 4, 2, 5)\n",
      "(3, 1, 4, 5, 2)\n",
      "(3, 1, 5, 2, 4)\n",
      "(3, 1, 5, 4, 2)\n",
      "(3, 2, 1, 4, 5)\n",
      "(3, 2, 1, 5, 4)\n",
      "(3, 2, 4, 1, 5)\n",
      "(3, 2, 4, 5, 1)\n",
      "(3, 2, 5, 1, 4)\n",
      "(3, 2, 5, 4, 1)\n",
      "(3, 4, 1, 2, 5)\n",
      "(3, 4, 1, 5, 2)\n",
      "(3, 4, 2, 1, 5)\n",
      "(3, 4, 2, 5, 1)\n",
      "(3, 4, 5, 1, 2)\n",
      "(3, 4, 5, 2, 1)\n",
      "(3, 5, 1, 2, 4)\n",
      "(3, 5, 1, 4, 2)\n",
      "(3, 5, 2, 1, 4)\n",
      "(3, 5, 2, 4, 1)\n",
      "(3, 5, 4, 1, 2)\n",
      "(3, 5, 4, 2, 1)\n",
      "(4, 1, 2, 3, 5)\n",
      "(4, 1, 2, 5, 3)\n",
      "(4, 1, 3, 2, 5)\n",
      "(4, 1, 3, 5, 2)\n",
      "(4, 1, 5, 2, 3)\n",
      "(4, 1, 5, 3, 2)\n",
      "(4, 2, 1, 3, 5)\n",
      "(4, 2, 1, 5, 3)\n",
      "(4, 2, 3, 1, 5)\n",
      "(4, 2, 3, 5, 1)\n",
      "(4, 2, 5, 1, 3)\n",
      "(4, 2, 5, 3, 1)\n",
      "(4, 3, 1, 2, 5)\n",
      "(4, 3, 1, 5, 2)\n",
      "(4, 3, 2, 1, 5)\n",
      "(4, 3, 2, 5, 1)\n",
      "(4, 3, 5, 1, 2)\n",
      "(4, 3, 5, 2, 1)\n",
      "(4, 5, 1, 2, 3)\n",
      "(4, 5, 1, 3, 2)\n",
      "(4, 5, 2, 1, 3)\n",
      "(4, 5, 2, 3, 1)\n",
      "(4, 5, 3, 1, 2)\n",
      "(4, 5, 3, 2, 1)\n",
      "(5, 1, 2, 3, 4)\n",
      "(5, 1, 2, 4, 3)\n",
      "(5, 1, 3, 2, 4)\n",
      "(5, 1, 3, 4, 2)\n",
      "(5, 1, 4, 2, 3)\n",
      "(5, 1, 4, 3, 2)\n",
      "(5, 2, 1, 3, 4)\n",
      "(5, 2, 1, 4, 3)\n",
      "(5, 2, 3, 1, 4)\n",
      "(5, 2, 3, 4, 1)\n",
      "(5, 2, 4, 1, 3)\n",
      "(5, 2, 4, 3, 1)\n",
      "(5, 3, 1, 2, 4)\n",
      "(5, 3, 1, 4, 2)\n",
      "(5, 3, 2, 1, 4)\n",
      "(5, 3, 2, 4, 1)\n",
      "(5, 3, 4, 1, 2)\n",
      "(5, 3, 4, 2, 1)\n",
      "(5, 4, 1, 2, 3)\n",
      "(5, 4, 1, 3, 2)\n",
      "(5, 4, 2, 1, 3)\n",
      "(5, 4, 2, 3, 1)\n",
      "(5, 4, 3, 1, 2)\n",
      "(5, 4, 3, 2, 1)\n"
     ]
    }
   ],
   "source": [
    "import itertools\n",
    "\n",
    "lst = [1,2,3,4,5]\n",
    "print(len(list((itertools.permutations(lst)))))\n",
    "\n",
    "for i in itertools.permutations(lst):\n",
    "        \n",
    "    print (i, end=\"\\n\")"
   ]
  },
  {
   "cell_type": "markdown",
   "id": "34a68aec",
   "metadata": {},
   "source": [
    "Here is a little twist if you’d like to see all the different numbers that are possible to generate with those 5 integers:"
   ]
  },
  {
   "cell_type": "code",
   "execution_count": 14,
   "id": "8ef41762",
   "metadata": {},
   "outputs": [
    {
     "name": "stdout",
     "output_type": "stream",
     "text": [
      "120\n",
      "12345|12354|12435|12453|12534|12543|13245|13254|13425|13452|13524|13542|14235|14253|14325|14352|14523|14532|15234|15243|15324|15342|15423|15432|21345|21354|21435|21453|21534|21543|23145|23154|23415|23451|23514|23541|24135|24153|24315|24351|24513|24531|25134|25143|25314|25341|25413|25431|31245|31254|31425|31452|31524|31542|32145|32154|32415|32451|32514|32541|34125|34152|34215|34251|34512|34521|35124|35142|35214|35241|35412|35421|41235|41253|41325|41352|41523|41532|42135|42153|42315|42351|42513|42531|43125|43152|43215|43251|43512|43521|45123|45132|45213|45231|45312|45321|51234|51243|51324|51342|51423|51432|52134|52143|52314|52341|52413|52431|53124|53142|53214|53241|53412|53421|54123|54132|54213|54231|54312|54321|"
     ]
    }
   ],
   "source": [
    "import itertools\n",
    "\n",
    "lst = [1,2,3,4,5]\n",
    "print(len(list((itertools.permutations(lst)))))\n",
    "for i in itertools.permutations(lst):\n",
    "        \n",
    "    print (''.join(str(j) for j in i), end=\"|\")"
   ]
  },
  {
   "cell_type": "markdown",
   "id": "68193ed4",
   "metadata": {},
   "source": [
    "## 22.Make it immutable: (frozenset)"
   ]
  },
  {
   "cell_type": "markdown",
   "id": "9a7dff8a",
   "metadata": {},
   "source": [
    "frozenset() function allows lists to be immutable.\n",
    "\n",
    "On some occasions you might have started your program with a list instead of tuples because of the conclusion that mutable data structure is more suitable for the project. But things change, projects evolve and ideas are known to change route. Now you decide that you needed immutable structure but it seems to late to undertake the tedious work of converting your lists? No worries. frozenset() will make it a breeze."
   ]
  },
  {
   "cell_type": "code",
   "execution_count": 16,
   "id": "99dbe904",
   "metadata": {},
   "outputs": [
    {
     "name": "stdout",
     "output_type": "stream",
     "text": [
      "['May', 'July', 'August']\n"
     ]
    }
   ],
   "source": [
    "lst = [\"June\", \"July\", \"August\"]\n",
    "\n",
    "lst[0]=\"May\"\n",
    "print(lst)"
   ]
  },
  {
   "cell_type": "markdown",
   "id": "e6fecae7",
   "metadata": {},
   "source": [
    "## 23.Swapping Dictionary Key & Values: (dict comprehension method)\n",
    "Dictionary Comprehension is a great way to achieve some dictionary operations, here is a great example:"
   ]
  },
  {
   "cell_type": "code",
   "execution_count": 17,
   "id": "2503bb99",
   "metadata": {},
   "outputs": [
    {
     "name": "stdout",
     "output_type": "stream",
     "text": [
      "{11: 1, 22: 2, 33: 3}\n"
     ]
    }
   ],
   "source": [
    "a = {1:11, 2:22, 3:33}\n",
    "\n",
    "b = (a.items())\n",
    "c = {i:j for j,i in b}\n",
    "\n",
    "print(c)"
   ]
  },
  {
   "cell_type": "markdown",
   "id": "88e03959",
   "metadata": {},
   "source": [
    "## 24.to_bytes: (Numbers to Bytes)"
   ]
  },
  {
   "cell_type": "code",
   "execution_count": null,
   "id": "18dea068",
   "metadata": {},
   "outputs": [],
   "source": []
  }
 ],
 "metadata": {
  "kernelspec": {
   "display_name": "Python 3 (ipykernel)",
   "language": "python",
   "name": "python3"
  },
  "language_info": {
   "codemirror_mode": {
    "name": "ipython",
    "version": 3
   },
   "file_extension": ".py",
   "mimetype": "text/x-python",
   "name": "python",
   "nbconvert_exporter": "python",
   "pygments_lexer": "ipython3",
   "version": "3.9.7"
  }
 },
 "nbformat": 4,
 "nbformat_minor": 5
}
